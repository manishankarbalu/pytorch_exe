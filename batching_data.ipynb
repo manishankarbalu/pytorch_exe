{
  "nbformat": 4,
  "nbformat_minor": 0,
  "metadata": {
    "colab": {
      "name": "batching_data.ipynb",
      "version": "0.3.2",
      "views": {},
      "default_view": {},
      "provenance": []
    },
    "kernelspec": {
      "name": "python2",
      "display_name": "Python 2"
    }
  },
  "cells": [
    {
      "metadata": {
        "id": "EEV-457t6EkD",
        "colab_type": "code",
        "colab": {
          "autoexec": {
            "startup": false,
            "wait_interval": 0
          }
        }
      },
      "cell_type": "code",
      "source": [
        "import torch\n",
        "import torch.utils.data as Data"
      ],
      "execution_count": 0,
      "outputs": []
    },
    {
      "metadata": {
        "id": "343ktuhh6JYK",
        "colab_type": "code",
        "colab": {
          "autoexec": {
            "startup": false,
            "wait_interval": 0
          }
        }
      },
      "cell_type": "code",
      "source": [
        "BATCH_SIZE = 3"
      ],
      "execution_count": 0,
      "outputs": []
    },
    {
      "metadata": {
        "id": "Dbo5WCKq6L6P",
        "colab_type": "code",
        "colab": {
          "autoexec": {
            "startup": false,
            "wait_interval": 0
          },
          "base_uri": "https://localhost:8080/",
          "height": 442
        },
        "outputId": "464ea6ba-8faa-4f7d-c327-c57b78391869",
        "executionInfo": {
          "status": "ok",
          "timestamp": 1522329639170,
          "user_tz": -330,
          "elapsed": 817,
          "user": {
            "displayName": "manishankar balasubramanian",
            "photoUrl": "//lh3.googleusercontent.com/-kRqGFL7X5Vs/AAAAAAAAAAI/AAAAAAAAE-8/2NEWTFiA7Nc/s50-c-k-no/photo.jpg",
            "userId": "114936196689355473009"
          }
        }
      },
      "cell_type": "code",
      "source": [
        "x = torch.linspace(1, 10, 10)       \n",
        "y = torch.linspace(10, 1, 10)      \n",
        "print x,y"
      ],
      "execution_count": 8,
      "outputs": [
        {
          "output_type": "stream",
          "text": [
            "\n",
            "  1\n",
            "  2\n",
            "  3\n",
            "  4\n",
            "  5\n",
            "  6\n",
            "  7\n",
            "  8\n",
            "  9\n",
            " 10\n",
            "[torch.FloatTensor of size 10]\n",
            " \n",
            " 10\n",
            "  9\n",
            "  8\n",
            "  7\n",
            "  6\n",
            "  5\n",
            "  4\n",
            "  3\n",
            "  2\n",
            "  1\n",
            "[torch.FloatTensor of size 10]\n",
            "\n"
          ],
          "name": "stdout"
        }
      ]
    },
    {
      "metadata": {
        "id": "FjrvJtk86dXc",
        "colab_type": "code",
        "colab": {
          "autoexec": {
            "startup": false,
            "wait_interval": 0
          }
        }
      },
      "cell_type": "code",
      "source": [
        "torch_dataset = Data.TensorDataset(data_tensor=x, target_tensor=y)\n",
        "loader = Data.DataLoader(\n",
        "    dataset=torch_dataset,      # torch TensorDataset format\n",
        "    batch_size=BATCH_SIZE,      # mini batch size\n",
        "    shuffle=True,               # random shuffle for training\n",
        "    num_workers=2,              # subprocesses for loading data\n",
        ")"
      ],
      "execution_count": 0,
      "outputs": []
    },
    {
      "metadata": {
        "id": "hq7rxOeZ6kbG",
        "colab_type": "code",
        "colab": {
          "autoexec": {
            "startup": false,
            "wait_interval": 0
          },
          "base_uri": "https://localhost:8080/",
          "height": 221
        },
        "outputId": "00360f78-adc0-41dc-b821-e4d29b101dd6",
        "executionInfo": {
          "status": "ok",
          "timestamp": 1522329780022,
          "user_tz": -330,
          "elapsed": 836,
          "user": {
            "displayName": "manishankar balasubramanian",
            "photoUrl": "//lh3.googleusercontent.com/-kRqGFL7X5Vs/AAAAAAAAAAI/AAAAAAAAE-8/2NEWTFiA7Nc/s50-c-k-no/photo.jpg",
            "userId": "114936196689355473009"
          }
        }
      },
      "cell_type": "code",
      "source": [
        "for epoch in range(3):   # train entire dataset 3 times\n",
        "    for step, (batch_x, batch_y) in enumerate(loader):  # for each training step\n",
        "        # train your data...\n",
        "        print('epoch: ', epoch, ', Step: ', step, ', batch x: ',\n",
        "              batch_x.numpy(), ', batch y: ', batch_y.numpy())"
      ],
      "execution_count": 18,
      "outputs": [
        {
          "output_type": "stream",
          "text": [
            "('epoch: ', 0, ', Step: ', 0, ', batch x: ', array([5., 8., 2.]), ', batch y: ', array([6., 3., 9.]))\n",
            "('epoch: ', 0, ', Step: ', 1, ', batch x: ', array([9., 3., 7.]), ', batch y: ', array([2., 8., 4.]))\n",
            "('epoch: ', 0, ', Step: ', 2, ', batch x: ', array([10.,  6.,  1.]), ', batch y: ', array([ 1.,  5., 10.]))\n",
            "('epoch: ', 0, ', Step: ', 3, ', batch x: ', array([4.]), ', batch y: ', array([7.]))\n",
            "('epoch: ', 1, ', Step: ', 0, ', batch x: ', array([10.,  8.,  6.]), ', batch y: ', array([1., 3., 5.]))\n",
            "('epoch: ', 1, ', Step: ', 1, ', batch x: ', array([5., 1., 3.]), ', batch y: ', array([ 6., 10.,  8.]))\n",
            "('epoch: ', 1, ', Step: ', 2, ', batch x: ', array([2., 4., 7.]), ', batch y: ', array([9., 7., 4.]))\n",
            "('epoch: ', 1, ', Step: ', 3, ', batch x: ', array([9.]), ', batch y: ', array([2.]))\n",
            "('epoch: ', 2, ', Step: ', 0, ', batch x: ', array([2., 3., 6.]), ', batch y: ', array([9., 8., 5.]))\n",
            "('epoch: ', 2, ', Step: ', 1, ', batch x: ', array([ 8.,  9., 10.]), ', batch y: ', array([3., 2., 1.]))\n",
            "('epoch: ', 2, ', Step: ', 2, ', batch x: ', array([5., 7., 1.]), ', batch y: ', array([ 6.,  4., 10.]))\n",
            "('epoch: ', 2, ', Step: ', 3, ', batch x: ', array([4.]), ', batch y: ', array([7.]))\n"
          ],
          "name": "stdout"
        }
      ]
    }
  ]
}