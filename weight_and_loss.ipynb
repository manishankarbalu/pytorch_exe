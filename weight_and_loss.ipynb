{
  "nbformat": 4,
  "nbformat_minor": 0,
  "metadata": {
    "colab": {
      "name": "weight_and_loss.ipynb",
      "version": "0.3.2",
      "views": {},
      "default_view": {},
      "provenance": []
    },
    "kernelspec": {
      "name": "python2",
      "display_name": "Python 2"
    }
  },
  "cells": [
    {
      "metadata": {
        "id": "WBTNVjl-rcHS",
        "colab_type": "code",
        "colab": {
          "autoexec": {
            "startup": false,
            "wait_interval": 0
          }
        }
      },
      "cell_type": "code",
      "source": [
        "import numpy as np\n",
        "import matplotlib.pyplot as plt"
      ],
      "execution_count": 0,
      "outputs": []
    },
    {
      "metadata": {
        "id": "FZuRKZeKrpZ8",
        "colab_type": "code",
        "colab": {
          "autoexec": {
            "startup": false,
            "wait_interval": 0
          }
        }
      },
      "cell_type": "code",
      "source": [
        "x_data = [1.0, 2.0, 3.0]\n",
        "y_data = [2.0, 4.0, 6.0]"
      ],
      "execution_count": 0,
      "outputs": []
    },
    {
      "metadata": {
        "id": "aiFMTj5jsbqB",
        "colab_type": "code",
        "colab": {
          "autoexec": {
            "startup": false,
            "wait_interval": 0
          }
        }
      },
      "cell_type": "code",
      "source": [
        "def forward(x):\n",
        "    return x * w"
      ],
      "execution_count": 0,
      "outputs": []
    },
    {
      "metadata": {
        "id": "fqs7C7z7sf9G",
        "colab_type": "code",
        "colab": {
          "autoexec": {
            "startup": false,
            "wait_interval": 0
          }
        }
      },
      "cell_type": "code",
      "source": [
        "def loss(x, y):\n",
        "    y_pred = forward(x)\n",
        "    return (y_pred - y) * (y_pred - y)"
      ],
      "execution_count": 0,
      "outputs": []
    },
    {
      "metadata": {
        "id": "0G7d_thNslAU",
        "colab_type": "code",
        "colab": {
          "autoexec": {
            "startup": false,
            "wait_interval": 0
          }
        }
      },
      "cell_type": "code",
      "source": [
        "w_list = []\n",
        "error_list = []"
      ],
      "execution_count": 0,
      "outputs": []
    },
    {
      "metadata": {
        "id": "u_O5_BWvsnO4",
        "colab_type": "code",
        "colab": {
          "autoexec": {
            "startup": false,
            "wait_interval": 0
          },
          "base_uri": "https://localhost:8080/",
          "height": 3417
        },
        "outputId": "ed3c10f0-20b8-4161-a3b8-87abf1b8a946",
        "executionInfo": {
          "status": "ok",
          "timestamp": 1522326464755,
          "user_tz": -330,
          "elapsed": 793,
          "user": {
            "displayName": "manishankar balasubramanian",
            "photoUrl": "//lh3.googleusercontent.com/-kRqGFL7X5Vs/AAAAAAAAAAI/AAAAAAAAE-8/2NEWTFiA7Nc/s50-c-k-no/photo.jpg",
            "userId": "114936196689355473009"
          }
        }
      },
      "cell_type": "code",
      "source": [
        "for w in np.arange(0.0, 4.0, 0.1):\n",
        "  print('w : ', w )\n",
        "  l_sum=0\n",
        "  for x_val, y_val in zip(x_data, y_data):\n",
        "    y_pred=forward(x_val)\n",
        "    l=loss(x_val, y_val)\n",
        "    l_sum+=l\n",
        "    print('\\t', x_val, y_val, y_pred, l)\n",
        "  error=l_sum/3\n",
        "  print(\"Error = \", error)\n",
        "  w_list.append(w)\n",
        "  error_list.append(error)"
      ],
      "execution_count": 18,
      "outputs": [
        {
          "output_type": "stream",
          "text": [
            "('w : ', 0.0)\n",
            "('\\t', 1.0, 2.0, 0.0, 4.0)\n",
            "('\\t', 2.0, 4.0, 0.0, 16.0)\n",
            "('\\t', 3.0, 6.0, 0.0, 36.0)\n",
            "('Error = ', 18.666666666666668)\n",
            "('w : ', 0.1)\n",
            "('\\t', 1.0, 2.0, 0.1, 3.61)\n",
            "('\\t', 2.0, 4.0, 0.2, 14.44)\n",
            "('\\t', 3.0, 6.0, 0.30000000000000004, 32.49)\n",
            "('Error = ', 16.846666666666668)\n",
            "('w : ', 0.2)\n",
            "('\\t', 1.0, 2.0, 0.2, 3.24)\n",
            "('\\t', 2.0, 4.0, 0.4, 12.96)\n",
            "('\\t', 3.0, 6.0, 0.6000000000000001, 29.160000000000004)\n",
            "('Error = ', 15.120000000000003)\n",
            "('w : ', 0.30000000000000004)\n",
            "('\\t', 1.0, 2.0, 0.30000000000000004, 2.8899999999999997)\n",
            "('\\t', 2.0, 4.0, 0.6000000000000001, 11.559999999999999)\n",
            "('\\t', 3.0, 6.0, 0.9000000000000001, 26.009999999999998)\n",
            "('Error = ', 13.486666666666665)\n",
            "('w : ', 0.4)\n",
            "('\\t', 1.0, 2.0, 0.4, 2.5600000000000005)\n",
            "('\\t', 2.0, 4.0, 0.8, 10.240000000000002)\n",
            "('\\t', 3.0, 6.0, 1.2000000000000002, 23.04)\n",
            "('Error = ', 11.946666666666667)\n",
            "('w : ', 0.5)\n",
            "('\\t', 1.0, 2.0, 0.5, 2.25)\n",
            "('\\t', 2.0, 4.0, 1.0, 9.0)\n",
            "('\\t', 3.0, 6.0, 1.5, 20.25)\n",
            "('Error = ', 10.5)\n",
            "('w : ', 0.6000000000000001)\n",
            "('\\t', 1.0, 2.0, 0.6000000000000001, 1.9599999999999997)\n",
            "('\\t', 2.0, 4.0, 1.2000000000000002, 7.839999999999999)\n",
            "('\\t', 3.0, 6.0, 1.8000000000000003, 17.639999999999993)\n",
            "('Error = ', 9.146666666666663)\n",
            "('w : ', 0.7000000000000001)\n",
            "('\\t', 1.0, 2.0, 0.7000000000000001, 1.6899999999999995)\n",
            "('\\t', 2.0, 4.0, 1.4000000000000001, 6.759999999999998)\n",
            "('\\t', 3.0, 6.0, 2.1, 15.209999999999999)\n",
            "('Error = ', 7.886666666666666)\n",
            "('w : ', 0.8)\n",
            "('\\t', 1.0, 2.0, 0.8, 1.44)\n",
            "('\\t', 2.0, 4.0, 1.6, 5.76)\n",
            "('\\t', 3.0, 6.0, 2.4000000000000004, 12.959999999999997)\n",
            "('Error = ', 6.719999999999999)\n",
            "('w : ', 0.9)\n",
            "('\\t', 1.0, 2.0, 0.9, 1.2100000000000002)\n",
            "('\\t', 2.0, 4.0, 1.8, 4.840000000000001)\n",
            "('\\t', 3.0, 6.0, 2.7, 10.889999999999999)\n",
            "('Error = ', 5.646666666666666)\n",
            "('w : ', 1.0)\n",
            "('\\t', 1.0, 2.0, 1.0, 1.0)\n",
            "('\\t', 2.0, 4.0, 2.0, 4.0)\n",
            "('\\t', 3.0, 6.0, 3.0, 9.0)\n",
            "('Error = ', 4.666666666666667)\n",
            "('w : ', 1.1)\n",
            "('\\t', 1.0, 2.0, 1.1, 0.8099999999999998)\n",
            "('\\t', 2.0, 4.0, 2.2, 3.2399999999999993)\n",
            "('\\t', 3.0, 6.0, 3.3000000000000003, 7.289999999999998)\n",
            "('Error = ', 3.779999999999999)\n",
            "('w : ', 1.2000000000000002)\n",
            "('\\t', 1.0, 2.0, 1.2000000000000002, 0.6399999999999997)\n",
            "('\\t', 2.0, 4.0, 2.4000000000000004, 2.5599999999999987)\n",
            "('\\t', 3.0, 6.0, 3.6000000000000005, 5.759999999999997)\n",
            "('Error = ', 2.986666666666665)\n",
            "('w : ', 1.3)\n",
            "('\\t', 1.0, 2.0, 1.3, 0.48999999999999994)\n",
            "('\\t', 2.0, 4.0, 2.6, 1.9599999999999997)\n",
            "('\\t', 3.0, 6.0, 3.9000000000000004, 4.409999999999998)\n",
            "('Error = ', 2.2866666666666657)\n",
            "('w : ', 1.4000000000000001)\n",
            "('\\t', 1.0, 2.0, 1.4000000000000001, 0.3599999999999998)\n",
            "('\\t', 2.0, 4.0, 2.8000000000000003, 1.4399999999999993)\n",
            "('\\t', 3.0, 6.0, 4.2, 3.2399999999999993)\n",
            "('Error = ', 1.6799999999999995)\n",
            "('w : ', 1.5)\n",
            "('\\t', 1.0, 2.0, 1.5, 0.25)\n",
            "('\\t', 2.0, 4.0, 3.0, 1.0)\n",
            "('\\t', 3.0, 6.0, 4.5, 2.25)\n",
            "('Error = ', 1.1666666666666667)\n",
            "('w : ', 1.6)\n",
            "('\\t', 1.0, 2.0, 1.6, 0.15999999999999992)\n",
            "('\\t', 2.0, 4.0, 3.2, 0.6399999999999997)\n",
            "('\\t', 3.0, 6.0, 4.800000000000001, 1.4399999999999984)\n",
            "('Error = ', 0.746666666666666)\n",
            "('w : ', 1.7000000000000002)\n",
            "('\\t', 1.0, 2.0, 1.7000000000000002, 0.0899999999999999)\n",
            "('\\t', 2.0, 4.0, 3.4000000000000004, 0.3599999999999996)\n",
            "('\\t', 3.0, 6.0, 5.1000000000000005, 0.809999999999999)\n",
            "('Error = ', 0.4199999999999995)\n",
            "('w : ', 1.8)\n",
            "('\\t', 1.0, 2.0, 1.8, 0.03999999999999998)\n",
            "('\\t', 2.0, 4.0, 3.6, 0.15999999999999992)\n",
            "('\\t', 3.0, 6.0, 5.4, 0.3599999999999996)\n",
            "('Error = ', 0.1866666666666665)\n",
            "('w : ', 1.9000000000000001)\n",
            "('\\t', 1.0, 2.0, 1.9000000000000001, 0.009999999999999974)\n",
            "('\\t', 2.0, 4.0, 3.8000000000000003, 0.0399999999999999)\n",
            "('\\t', 3.0, 6.0, 5.7, 0.0899999999999999)\n",
            "('Error = ', 0.046666666666666586)\n",
            "('w : ', 2.0)\n",
            "('\\t', 1.0, 2.0, 2.0, 0.0)\n",
            "('\\t', 2.0, 4.0, 4.0, 0.0)\n",
            "('\\t', 3.0, 6.0, 6.0, 0.0)\n",
            "('Error = ', 0.0)\n",
            "('w : ', 2.1)\n",
            "('\\t', 1.0, 2.0, 2.1, 0.010000000000000018)\n",
            "('\\t', 2.0, 4.0, 4.2, 0.04000000000000007)\n",
            "('\\t', 3.0, 6.0, 6.300000000000001, 0.09000000000000043)\n",
            "('Error = ', 0.046666666666666835)\n",
            "('w : ', 2.2)\n",
            "('\\t', 1.0, 2.0, 2.2, 0.04000000000000007)\n",
            "('\\t', 2.0, 4.0, 4.4, 0.16000000000000028)\n",
            "('\\t', 3.0, 6.0, 6.6000000000000005, 0.36000000000000065)\n",
            "('Error = ', 0.18666666666666698)\n",
            "('w : ', 2.3000000000000003)\n",
            "('\\t', 1.0, 2.0, 2.3000000000000003, 0.09000000000000016)\n",
            "('\\t', 2.0, 4.0, 4.6000000000000005, 0.36000000000000065)\n",
            "('\\t', 3.0, 6.0, 6.9, 0.8100000000000006)\n",
            "('Error = ', 0.42000000000000054)\n",
            "('w : ', 2.4000000000000004)\n",
            "('\\t', 1.0, 2.0, 2.4000000000000004, 0.16000000000000028)\n",
            "('\\t', 2.0, 4.0, 4.800000000000001, 0.6400000000000011)\n",
            "('\\t', 3.0, 6.0, 7.200000000000001, 1.4400000000000026)\n",
            "('Error = ', 0.7466666666666679)\n",
            "('w : ', 2.5)\n",
            "('\\t', 1.0, 2.0, 2.5, 0.25)\n",
            "('\\t', 2.0, 4.0, 5.0, 1.0)\n",
            "('\\t', 3.0, 6.0, 7.5, 2.25)\n",
            "('Error = ', 1.1666666666666667)\n",
            "('w : ', 2.6)\n",
            "('\\t', 1.0, 2.0, 2.6, 0.3600000000000001)\n",
            "('\\t', 2.0, 4.0, 5.2, 1.4400000000000004)\n",
            "('\\t', 3.0, 6.0, 7.800000000000001, 3.2400000000000024)\n",
            "('Error = ', 1.6800000000000008)\n",
            "('w : ', 2.7)\n",
            "('\\t', 1.0, 2.0, 2.7, 0.49000000000000027)\n",
            "('\\t', 2.0, 4.0, 5.4, 1.960000000000001)\n",
            "('\\t', 3.0, 6.0, 8.100000000000001, 4.410000000000006)\n",
            "('Error = ', 2.2866666666666693)\n",
            "('w : ', 2.8000000000000003)\n",
            "('\\t', 1.0, 2.0, 2.8000000000000003, 0.6400000000000005)\n",
            "('\\t', 2.0, 4.0, 5.6000000000000005, 2.560000000000002)\n",
            "('\\t', 3.0, 6.0, 8.4, 5.760000000000002)\n",
            "('Error = ', 2.986666666666668)\n",
            "('w : ', 2.9000000000000004)\n",
            "('\\t', 1.0, 2.0, 2.9000000000000004, 0.8100000000000006)\n",
            "('\\t', 2.0, 4.0, 5.800000000000001, 3.2400000000000024)\n",
            "('\\t', 3.0, 6.0, 8.700000000000001, 7.290000000000005)\n",
            "('Error = ', 3.780000000000003)\n",
            "('w : ', 3.0)\n",
            "('\\t', 1.0, 2.0, 3.0, 1.0)\n",
            "('\\t', 2.0, 4.0, 6.0, 4.0)\n",
            "('\\t', 3.0, 6.0, 9.0, 9.0)\n",
            "('Error = ', 4.666666666666667)\n",
            "('w : ', 3.1)\n",
            "('\\t', 1.0, 2.0, 3.1, 1.2100000000000002)\n",
            "('\\t', 2.0, 4.0, 6.2, 4.840000000000001)\n",
            "('\\t', 3.0, 6.0, 9.3, 10.890000000000004)\n",
            "('Error = ', 5.646666666666668)\n",
            "('w : ', 3.2)\n",
            "('\\t', 1.0, 2.0, 3.2, 1.4400000000000004)\n",
            "('\\t', 2.0, 4.0, 6.4, 5.760000000000002)\n",
            "('\\t', 3.0, 6.0, 9.600000000000001, 12.96000000000001)\n",
            "('Error = ', 6.720000000000003)\n",
            "('w : ', 3.3000000000000003)\n",
            "('\\t', 1.0, 2.0, 3.3000000000000003, 1.6900000000000006)\n",
            "('\\t', 2.0, 4.0, 6.6000000000000005, 6.7600000000000025)\n",
            "('\\t', 3.0, 6.0, 9.9, 15.210000000000003)\n",
            "('Error = ', 7.886666666666668)\n",
            "('w : ', 3.4000000000000004)\n",
            "('\\t', 1.0, 2.0, 3.4000000000000004, 1.960000000000001)\n",
            "('\\t', 2.0, 4.0, 6.800000000000001, 7.840000000000004)\n",
            "('\\t', 3.0, 6.0, 10.200000000000001, 17.640000000000008)\n",
            "('Error = ', 9.14666666666667)\n",
            "('w : ', 3.5)\n",
            "('\\t', 1.0, 2.0, 3.5, 2.25)\n",
            "('\\t', 2.0, 4.0, 7.0, 9.0)\n",
            "('\\t', 3.0, 6.0, 10.5, 20.25)\n",
            "('Error = ', 10.5)\n",
            "('w : ', 3.6)\n",
            "('\\t', 1.0, 2.0, 3.6, 2.5600000000000005)\n",
            "('\\t', 2.0, 4.0, 7.2, 10.240000000000002)\n",
            "('\\t', 3.0, 6.0, 10.8, 23.040000000000006)\n",
            "('Error = ', 11.94666666666667)\n",
            "('w : ', 3.7)\n",
            "('\\t', 1.0, 2.0, 3.7, 2.8900000000000006)\n",
            "('\\t', 2.0, 4.0, 7.4, 11.560000000000002)\n",
            "('\\t', 3.0, 6.0, 11.100000000000001, 26.010000000000016)\n",
            "('Error = ', 13.486666666666673)\n",
            "('w : ', 3.8000000000000003)\n",
            "('\\t', 1.0, 2.0, 3.8000000000000003, 3.240000000000001)\n",
            "('\\t', 2.0, 4.0, 7.6000000000000005, 12.960000000000004)\n",
            "('\\t', 3.0, 6.0, 11.4, 29.160000000000004)\n",
            "('Error = ', 15.120000000000005)\n",
            "('w : ', 3.9000000000000004)\n",
            "('\\t', 1.0, 2.0, 3.9000000000000004, 3.610000000000001)\n",
            "('\\t', 2.0, 4.0, 7.800000000000001, 14.440000000000005)\n",
            "('\\t', 3.0, 6.0, 11.700000000000001, 32.49000000000001)\n",
            "('Error = ', 16.84666666666667)\n"
          ],
          "name": "stdout"
        }
      ]
    },
    {
      "metadata": {
        "id": "hdIMItvMu49U",
        "colab_type": "code",
        "colab": {
          "autoexec": {
            "startup": false,
            "wait_interval": 0
          },
          "base_uri": "https://localhost:8080/",
          "height": 71
        },
        "outputId": "e09fe49a-bf53-4857-c681-2a4c554242e7",
        "executionInfo": {
          "status": "ok",
          "timestamp": 1522326554639,
          "user_tz": -330,
          "elapsed": 1007,
          "user": {
            "displayName": "manishankar balasubramanian",
            "photoUrl": "//lh3.googleusercontent.com/-kRqGFL7X5Vs/AAAAAAAAAAI/AAAAAAAAE-8/2NEWTFiA7Nc/s50-c-k-no/photo.jpg",
            "userId": "114936196689355473009"
          }
        }
      },
      "cell_type": "code",
      "source": [
        "print w_list\n",
        "print error_list"
      ],
      "execution_count": 23,
      "outputs": [
        {
          "output_type": "stream",
          "text": [
            "[0.0, 0.1, 0.2, 0.30000000000000004, 0.4, 0.5, 0.6000000000000001, 0.7000000000000001, 0.8, 0.9, 1.0, 1.1, 1.2000000000000002, 1.3, 1.4000000000000001, 1.5, 1.6, 1.7000000000000002, 1.8, 1.9000000000000001, 2.0, 2.1, 2.2, 2.3000000000000003, 2.4000000000000004, 2.5, 2.6, 2.7, 2.8000000000000003, 2.9000000000000004, 3.0, 3.1, 3.2, 3.3000000000000003, 3.4000000000000004, 3.5, 3.6, 3.7, 3.8000000000000003, 3.9000000000000004, 0.0, 0.1, 0.2, 0.30000000000000004, 0.4, 0.5, 0.6000000000000001, 0.7000000000000001, 0.8, 0.9, 1.0, 1.1, 1.2000000000000002, 1.3, 1.4000000000000001, 1.5, 1.6, 1.7000000000000002, 1.8, 1.9000000000000001, 2.0, 2.1, 2.2, 2.3000000000000003, 2.4000000000000004, 2.5, 2.6, 2.7, 2.8000000000000003, 2.9000000000000004, 3.0, 3.1, 3.2, 3.3000000000000003, 3.4000000000000004, 3.5, 3.6, 3.7, 3.8000000000000003, 3.9000000000000004, 0.0, 0.1, 0.2, 0.30000000000000004, 0.4, 0.5, 0.6000000000000001, 0.7000000000000001, 0.8, 0.9, 1.0, 1.1, 1.2000000000000002, 1.3, 1.4000000000000001, 1.5, 1.6, 1.7000000000000002, 1.8, 1.9000000000000001, 2.0, 2.1, 2.2, 2.3000000000000003, 2.4000000000000004, 2.5, 2.6, 2.7, 2.8000000000000003, 2.9000000000000004, 3.0, 3.1, 3.2, 3.3000000000000003, 3.4000000000000004, 3.5, 3.6, 3.7, 3.8000000000000003, 3.9000000000000004]\n",
            "[275.0, 264.11, 253.44, 242.99, 232.76, 222.75, 212.95999999999998, 203.39000000000001, 194.04000000000002, 184.91, 176.0, 167.31, 158.83999999999997, 150.59, 142.56, 134.75, 127.16, 119.78999999999999, 112.64000000000001, 105.71, 99.0, 92.50999999999999, 86.23999999999998, 80.18999999999998, 74.35999999999999, 68.75, 63.35999999999999, 58.18999999999998, 53.23999999999999, 48.50999999999998, 44.0, 39.709999999999994, 35.64, 31.79, 28.15999999999999, 24.75, 21.559999999999995, 18.589999999999996, 15.839999999999998, 13.309999999999997, 116.66666666666667, 112.04666666666667, 107.52, 103.08666666666666, 98.74666666666667, 94.5, 90.34666666666665, 86.28666666666668, 82.32, 78.44666666666667, 74.66666666666667, 70.98, 67.38666666666666, 63.88666666666666, 60.48, 57.166666666666664, 53.94666666666666, 50.81999999999999, 47.78666666666667, 44.846666666666664, 42.0, 39.24666666666666, 36.58666666666665, 34.019999999999996, 31.546666666666656, 29.166666666666668, 26.879999999999995, 24.686666666666657, 22.586666666666662, 20.57999999999999, 18.666666666666668, 16.846666666666664, 15.119999999999996, 13.486666666666665, 11.94666666666666, 10.5, 9.146666666666663, 7.886666666666662, 6.719999999999998, 5.646666666666664, 18.666666666666668, 16.846666666666668, 15.120000000000003, 13.486666666666665, 11.946666666666667, 10.5, 9.146666666666663, 7.886666666666666, 6.719999999999999, 5.646666666666666, 4.666666666666667, 3.779999999999999, 2.986666666666665, 2.2866666666666657, 1.6799999999999995, 1.1666666666666667, 0.746666666666666, 0.4199999999999995, 0.1866666666666665, 0.046666666666666586, 0.0, 0.046666666666666835, 0.18666666666666698, 0.42000000000000054, 0.7466666666666679, 1.1666666666666667, 1.6800000000000008, 2.2866666666666693, 2.986666666666668, 3.780000000000003, 4.666666666666667, 5.646666666666668, 6.720000000000003, 7.886666666666668, 9.14666666666667, 10.5, 11.94666666666667, 13.486666666666673, 15.120000000000005, 16.84666666666667]\n"
          ],
          "name": "stdout"
        }
      ]
    },
    {
      "metadata": {
        "id": "8nTXoLEMurdL",
        "colab_type": "code",
        "colab": {
          "autoexec": {
            "startup": false,
            "wait_interval": 0
          },
          "base_uri": "https://localhost:8080/",
          "height": 361
        },
        "outputId": "c5400791-3e69-4e26-c7b8-37c5b44f8dd0",
        "executionInfo": {
          "status": "ok",
          "timestamp": 1522326495969,
          "user_tz": -330,
          "elapsed": 1028,
          "user": {
            "displayName": "manishankar balasubramanian",
            "photoUrl": "//lh3.googleusercontent.com/-kRqGFL7X5Vs/AAAAAAAAAAI/AAAAAAAAE-8/2NEWTFiA7Nc/s50-c-k-no/photo.jpg",
            "userId": "114936196689355473009"
          }
        }
      },
      "cell_type": "code",
      "source": [
        "plt.plot(w_list, error_list)\n",
        "plt.ylabel('Loss')\n",
        "plt.xlabel('w')\n",
        "plt.show()"
      ],
      "execution_count": 22,
      "outputs": [
        {
          "output_type": "display_data",
          "data": {
            "image/png": "[encoded data removed]",
            "text/plain": [
              "<matplotlib.figure.Figure at 0x7f98f50aaf10>"
            ]
          },
          "metadata": {
            "tags": []
          }
        }
      ]
    }
  ]
}