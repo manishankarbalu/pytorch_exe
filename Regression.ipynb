{
 "cells": [
  {
   "cell_type": "code",
   "execution_count": 4,
   "metadata": {
    "collapsed": true
   },
   "outputs": [],
   "source": [
    "import numpy as np\n",
    "import matplotlib.pyplot as plt"
   ]
  },
  {
   "cell_type": "code",
   "execution_count": 5,
   "metadata": {},
   "outputs": [
    {
     "data": {
      "image/png": "[encoded data removed]",
      "text/plain": [
       "<matplotlib.figure.Figure at 0x7fa16347b210>"
      ]
     },
     "metadata": {},
     "output_type": "display_data"
    }
   ],
   "source": [
    "np.random.seed(1)\n",
    "n=50\n",
    "x=np.random.randn(n)\n",
    "y=x*np.random.randn(n)\n",
    "\n",
    "colors=np.random.rand(n)\n",
    "plt.plot(np.unique(x),np.poly1d(np.polyfit(x,y,1))(np.unique(x)))\n",
    "plt.scatter(x,y,c=colors,alpha=0.5)\n",
    "plt.show()"
   ]
  },
  {
   "cell_type": "code",
   "execution_count": 6,
   "metadata": {},
   "outputs": [
    {
     "name": "stdout",
     "output_type": "stream",
     "text": [
      "[0, 1, 2, 3, 4, 5, 6, 7, 8, 9, 10]\n"
     ]
    }
   ],
   "source": [
    "#prepare dummy dataset\n",
    "x_arr=[i for i in range(11)]\n",
    "print x_arr"
   ]
  },
  {
   "cell_type": "code",
   "execution_count": 7,
   "metadata": {},
   "outputs": [
    {
     "name": "stdout",
     "output_type": "stream",
     "text": [
      "[  0.   1.   2.   3.   4.   5.   6.   7.   8.   9.  10.]\n",
      "(11,)\n"
     ]
    }
   ],
   "source": [
    "#convert to numpy\n",
    "x=np.array(x_arr, dtype=np.float32)\n",
    "print x\n",
    "print x.shape"
   ]
  },
  {
   "cell_type": "code",
   "execution_count": 8,
   "metadata": {},
   "outputs": [
    {
     "name": "stdout",
     "output_type": "stream",
     "text": [
      "[[  0.]\n",
      " [  1.]\n",
      " [  2.]\n",
      " [  3.]\n",
      " [  4.]\n",
      " [  5.]\n",
      " [  6.]\n",
      " [  7.]\n",
      " [  8.]\n",
      " [  9.]\n",
      " [ 10.]]\n",
      "(11, 1)\n"
     ]
    }
   ],
   "source": [
    "#convert the 1d array to 2d\n",
    "x=x.reshape(-1,1)\n",
    "print x\n",
    "print x.shape"
   ]
  },
  {
   "cell_type": "code",
   "execution_count": 9,
   "metadata": {},
   "outputs": [
    {
     "name": "stdout",
     "output_type": "stream",
     "text": [
      "[1, 3, 5, 7, 9, 11, 13, 15, 17, 19, 21]\n"
     ]
    }
   ],
   "source": [
    "#prepare the corresponding output Equation is y=2x+1\n",
    "y_arr=[2*i+1 for i in x_arr]\n",
    "print y_arr"
   ]
  },
  {
   "cell_type": "code",
   "execution_count": 10,
   "metadata": {},
   "outputs": [
    {
     "name": "stdout",
     "output_type": "stream",
     "text": [
      "[  1.   3.   5.   7.   9.  11.  13.  15.  17.  19.  21.]\n"
     ]
    }
   ],
   "source": [
    "y=np.array(y_arr,dtype=np.float32)\n",
    "print y"
   ]
  },
  {
   "cell_type": "code",
   "execution_count": 11,
   "metadata": {},
   "outputs": [
    {
     "name": "stdout",
     "output_type": "stream",
     "text": [
      "[[  1.]\n",
      " [  3.]\n",
      " [  5.]\n",
      " [  7.]\n",
      " [  9.]\n",
      " [ 11.]\n",
      " [ 13.]\n",
      " [ 15.]\n",
      " [ 17.]\n",
      " [ 19.]\n",
      " [ 21.]]\n",
      "(11, 1)\n"
     ]
    }
   ],
   "source": [
    "y=y.reshape(-1,1)\n",
    "print y\n",
    "print y.shape"
   ]
  },
  {
   "cell_type": "markdown",
   "metadata": {},
   "source": [
    "### Build the neural network"
   ]
  },
  {
   "cell_type": "code",
   "execution_count": 12,
   "metadata": {
    "collapsed": true
   },
   "outputs": [],
   "source": [
    "import torch\n",
    "from torch.autograd import Variable\n",
    "import torch.nn as nn"
   ]
  },
  {
   "cell_type": "code",
   "execution_count": 13,
   "metadata": {
    "collapsed": true
   },
   "outputs": [],
   "source": [
    "#create the class and model for the network\n",
    "class LinearRegressionModel(nn.Module):\n",
    "    def __init__(self,insize,ousize):\n",
    "        super(LinearRegressionModel, self).__init__()\n",
    "        self.linear=nn.Linear(inp_dim,out_dim)\n",
    "    def forward(self, x):\n",
    "        out=self.linear(x)\n",
    "        return out"
   ]
  },
  {
   "cell_type": "code",
   "execution_count": 14,
   "metadata": {
    "collapsed": true
   },
   "outputs": [],
   "source": [
    "#initiate the inp and out and their dim\n",
    "inp_dim=1\n",
    "out_dim=1\n",
    "\n",
    "model=LinearRegressionModel(inp_dim,out_dim)"
   ]
  },
  {
   "cell_type": "code",
   "execution_count": 15,
   "metadata": {
    "collapsed": true
   },
   "outputs": [],
   "source": [
    "#intiate the loss the loss here is mean square error that is MSE\n",
    "criterion = nn.MSELoss()"
   ]
  },
  {
   "cell_type": "code",
   "execution_count": 16,
   "metadata": {
    "collapsed": true
   },
   "outputs": [],
   "source": [
    "learning_rate=0.01\n",
    "optimizer= torch.optim.SGD(model.parameters(),lr=learning_rate)"
   ]
  },
  {
   "cell_type": "code",
   "execution_count": 17,
   "metadata": {
    "collapsed": true
   },
   "outputs": [],
   "source": [
    "epochs=100"
   ]
  },
  {
   "cell_type": "code",
   "execution_count": 49,
   "metadata": {},
   "outputs": [
    {
     "name": "stdout",
     "output_type": "stream",
     "text": [
      "epoch 1, loss 1.55935056534e-11\n",
      "epoch 2, loss 1.55935056534e-11\n",
      "epoch 3, loss 1.55935056534e-11\n",
      "epoch 4, loss 1.55935056534e-11\n",
      "epoch 5, loss 1.55935056534e-11\n",
      "epoch 6, loss 1.55935056534e-11\n",
      "epoch 7, loss 1.55935056534e-11\n",
      "epoch 8, loss 1.55935056534e-11\n",
      "epoch 9, loss 1.55935056534e-11\n",
      "epoch 10, loss 1.55935056534e-11\n",
      "epoch 11, loss 1.55935056534e-11\n",
      "epoch 12, loss 1.55935056534e-11\n",
      "epoch 13, loss 1.55935056534e-11\n",
      "epoch 14, loss 1.55935056534e-11\n",
      "epoch 15, loss 1.55935056534e-11\n",
      "epoch 16, loss 1.55935056534e-11\n",
      "epoch 17, loss 1.55935056534e-11\n",
      "epoch 18, loss 1.55935056534e-11\n",
      "epoch 19, loss 1.55935056534e-11\n",
      "epoch 20, loss 1.55935056534e-11\n",
      "epoch 21, loss 1.55935056534e-11\n",
      "epoch 22, loss 1.55935056534e-11\n",
      "epoch 23, loss 1.55935056534e-11\n",
      "epoch 24, loss 1.55935056534e-11\n",
      "epoch 25, loss 1.55935056534e-11\n",
      "epoch 26, loss 1.55935056534e-11\n",
      "epoch 27, loss 1.55935056534e-11\n",
      "epoch 28, loss 1.55935056534e-11\n",
      "epoch 29, loss 1.55935056534e-11\n",
      "epoch 30, loss 1.55935056534e-11\n",
      "epoch 31, loss 1.55935056534e-11\n",
      "epoch 32, loss 1.55935056534e-11\n",
      "epoch 33, loss 1.55935056534e-11\n",
      "epoch 34, loss 1.55935056534e-11\n",
      "epoch 35, loss 1.55935056534e-11\n",
      "epoch 36, loss 1.55935056534e-11\n",
      "epoch 37, loss 1.55935056534e-11\n",
      "epoch 38, loss 1.55935056534e-11\n",
      "epoch 39, loss 1.55935056534e-11\n",
      "epoch 40, loss 1.55935056534e-11\n",
      "epoch 41, loss 1.55935056534e-11\n",
      "epoch 42, loss 1.55935056534e-11\n",
      "epoch 43, loss 1.55935056534e-11\n",
      "epoch 44, loss 1.55935056534e-11\n",
      "epoch 45, loss 1.55935056534e-11\n",
      "epoch 46, loss 1.55935056534e-11\n",
      "epoch 47, loss 1.55935056534e-11\n",
      "epoch 48, loss 1.55935056534e-11\n",
      "epoch 49, loss 1.55935056534e-11\n",
      "epoch 50, loss 1.55935056534e-11\n",
      "epoch 51, loss 1.55935056534e-11\n",
      "epoch 52, loss 1.55935056534e-11\n",
      "epoch 53, loss 1.55935056534e-11\n",
      "epoch 54, loss 1.55935056534e-11\n",
      "epoch 55, loss 1.55935056534e-11\n",
      "epoch 56, loss 1.55935056534e-11\n",
      "epoch 57, loss 1.55935056534e-11\n",
      "epoch 58, loss 1.55935056534e-11\n",
      "epoch 59, loss 1.55935056534e-11\n",
      "epoch 60, loss 1.55935056534e-11\n",
      "epoch 61, loss 1.55935056534e-11\n",
      "epoch 62, loss 1.55935056534e-11\n",
      "epoch 63, loss 1.55935056534e-11\n",
      "epoch 64, loss 1.55935056534e-11\n",
      "epoch 65, loss 1.55935056534e-11\n",
      "epoch 66, loss 1.55935056534e-11\n",
      "epoch 67, loss 1.55935056534e-11\n",
      "epoch 68, loss 1.55935056534e-11\n",
      "epoch 69, loss 1.55935056534e-11\n",
      "epoch 70, loss 1.55935056534e-11\n",
      "epoch 71, loss 1.55935056534e-11\n",
      "epoch 72, loss 1.55935056534e-11\n",
      "epoch 73, loss 1.55935056534e-11\n",
      "epoch 74, loss 1.55935056534e-11\n",
      "epoch 75, loss 1.55935056534e-11\n",
      "epoch 76, loss 1.55935056534e-11\n",
      "epoch 77, loss 1.55935056534e-11\n",
      "epoch 78, loss 1.55935056534e-11\n",
      "epoch 79, loss 1.55935056534e-11\n",
      "epoch 80, loss 1.55935056534e-11\n",
      "epoch 81, loss 1.55935056534e-11\n",
      "epoch 82, loss 1.55935056534e-11\n",
      "epoch 83, loss 1.55935056534e-11\n",
      "epoch 84, loss 1.55935056534e-11\n",
      "epoch 85, loss 1.55935056534e-11\n",
      "epoch 86, loss 1.55935056534e-11\n",
      "epoch 87, loss 1.55935056534e-11\n",
      "epoch 88, loss 1.55935056534e-11\n",
      "epoch 89, loss 1.55935056534e-11\n",
      "epoch 90, loss 1.55935056534e-11\n",
      "epoch 91, loss 1.55935056534e-11\n",
      "epoch 92, loss 1.55935056534e-11\n",
      "epoch 93, loss 1.55935056534e-11\n",
      "epoch 94, loss 1.55935056534e-11\n",
      "epoch 95, loss 1.55935056534e-11\n",
      "epoch 96, loss 1.55935056534e-11\n",
      "epoch 97, loss 1.55935056534e-11\n",
      "epoch 98, loss 1.55935056534e-11\n",
      "epoch 99, loss 1.55935056534e-11\n",
      "epoch 100, loss 1.55935056534e-11\n"
     ]
    },
    {
     "data": {
      "text/plain": [
       "\"    \\n    if epoch % 5 == 0:\\n        # plot and show learning process\\n        plt.cla()\\n        plt.scatter(inputs.data.numpy(), labels.data.numpy())\\n        plt.plot(inputs.data.numpy(), outputs.data.numpy(), 'r-', lw=0.5)\\n        plt.text(0.1, 0, 'Loss=%.4f' % loss.data[0], fontdict={'size': 10, 'color':  'red'})\\n        plt.show()\\n        plt.pause(0.1)\\n\""
      ]
     },
     "execution_count": 49,
     "metadata": {},
     "output_type": "execute_result"
    }
   ],
   "source": [
    "for epoch in range(epochs):\n",
    "    epoch+=1\n",
    "    \n",
    "    inputs=Variable(torch.from_numpy(x))\n",
    "    labels=Variable(torch.from_numpy(y))\n",
    "    \n",
    "    optimizer.zero_grad()\n",
    "    \n",
    "    outputs = model(inputs)\n",
    "    #print outputs.data.numpy()\n",
    "    #print inputs.data.numpy()\n",
    "    loss=criterion(outputs,labels)\n",
    "    \n",
    "    loss.backward()\n",
    "    \n",
    "    optimizer.step()\n",
    "    \n",
    "    print ('epoch {}, loss {}'.format(epoch,loss.data[0]))\n",
    "'''    \n",
    "    if epoch % 5 == 0:\n",
    "        # plot and show learning process\n",
    "        plt.cla()\n",
    "        plt.scatter(inputs.data.numpy(), labels.data.numpy())\n",
    "        plt.plot(inputs.data.numpy(), outputs.data.numpy(), 'r-', lw=0.5)\n",
    "        plt.text(0.1, 0, 'Loss=%.4f' % loss.data[0], fontdict={'size': 10, 'color':  'red'})\n",
    "        plt.show()\n",
    "        plt.pause(0.1)\n",
    "'''"
   ]
  },
  {
   "cell_type": "code",
   "execution_count": 50,
   "metadata": {},
   "outputs": [
    {
     "data": {
      "text/plain": [
       "array([[  0.99999267],\n",
       "       [  2.9999938 ],\n",
       "       [  4.99999523],\n",
       "       [  6.99999666],\n",
       "       [  8.99999714],\n",
       "       [ 10.99999809],\n",
       "       [ 13.        ],\n",
       "       [ 15.00000095],\n",
       "       [ 17.00000191],\n",
       "       [ 19.00000381],\n",
       "       [ 21.00000381]], dtype=float32)"
      ]
     },
     "execution_count": 50,
     "metadata": {},
     "output_type": "execute_result"
    }
   ],
   "source": [
    "#compare model\n",
    "predicted = model(Variable(torch.from_numpy(x))).data.numpy()\n",
    "predicted"
   ]
  },
  {
   "cell_type": "code",
   "execution_count": 51,
   "metadata": {},
   "outputs": [
    {
     "data": {
      "text/plain": [
       "array([[  1.],\n",
       "       [  3.],\n",
       "       [  5.],\n",
       "       [  7.],\n",
       "       [  9.],\n",
       "       [ 11.],\n",
       "       [ 13.],\n",
       "       [ 15.],\n",
       "       [ 17.],\n",
       "       [ 19.],\n",
       "       [ 21.]], dtype=float32)"
      ]
     },
     "execution_count": 51,
     "metadata": {},
     "output_type": "execute_result"
    }
   ],
   "source": [
    "y"
   ]
  },
  {
   "cell_type": "code",
   "execution_count": 50,
   "metadata": {},
   "outputs": [
    {
     "data": {
      "image/png": "[encoded data removed]",
      "text/plain": [
       "<matplotlib.figure.Figure at 0x7f2bcfe45a90>"
      ]
     },
     "metadata": {},
     "output_type": "display_data"
    }
   ],
   "source": [
    "#predicted = model(Variable(torch.from_numpy(x))).data.numpy()\n",
    "plt.clf()\n",
    "plt.plot(x,y,'go',label='True_data',alpha=0.5)\n",
    "plt.plot(x,predicted,'--',label='Predicted',alpha=0.5)\n",
    "plt.legend(loc='best')\n",
    "plt.show()"
   ]
  }
 ],
 "metadata": {
  "kernelspec": {
   "display_name": "Python 2",
   "language": "python",
   "name": "python2"
  },
  "language_info": {
   "codemirror_mode": {
    "name": "ipython",
    "version": 2
   },
   "file_extension": ".py",
   "mimetype": "text/x-python",
   "name": "python",
   "nbconvert_exporter": "python",
   "pygments_lexer": "ipython2",
   "version": "2.7.6"
  }
 },
 "nbformat": 4,
 "nbformat_minor": 2
}
